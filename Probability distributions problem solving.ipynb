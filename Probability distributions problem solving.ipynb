{
 "cells": [
  {
   "cell_type": "markdown",
   "metadata": {},
   "source": [
    "### Let's solve a few questions based on the Probability distributions such as Geometric distribution, Binomial distribution, etc."
   ]
  },
  {
   "cell_type": "markdown",
   "metadata": {},
   "source": [
    "#### Before starting with the problem solving, let's import all the libraries which would be needed."
   ]
  },
  {
   "cell_type": "code",
   "execution_count": 1,
   "metadata": {},
   "outputs": [],
   "source": [
    "# Common libraries\n",
    "import numpy as np\n",
    "import math\n",
    "\n",
    "# Libraries pertaining to probability distributions\n",
    "from scipy.stats import bernoulli\n",
    "from scipy.stats import geom\n",
    "from scipy.stats import binom\n",
    "from scipy.stats import poisson\n",
    "from scipy.stats import expon\n",
    "from scipy.stats import norm"
   ]
  },
  {
   "cell_type": "markdown",
   "metadata": {},
   "source": [
    "### Q. If a coin is biased such that P(Head) = 0.6, what is the probability that we’ll get exactly 4 heads after tossing a coin for 10 times."
   ]
  },
  {
   "cell_type": "markdown",
   "metadata": {},
   "source": [
    "#### A. This question is about Binomial distribution."
   ]
  },
  {
   "cell_type": "code",
   "execution_count": 2,
   "metadata": {},
   "outputs": [
    {
     "name": "stdout",
     "output_type": "stream",
     "text": [
      "The probability that we’ll get exactly 4 heads after tossing a coin for 10 times is: 0.11147673600000013\n"
     ]
    }
   ],
   "source": [
    "# Let's declare all the variables first\n",
    "r = 4\n",
    "n = 10\n",
    "p = 0.6\n",
    "\n",
    "# Let's pass all the variables to the Binomial distribution function\n",
    "Binom_prob = binom.pmf(r, n, p)\n",
    "\n",
    "# Let's print the result\n",
    "print(\"The probability that we’ll get exactly 4 heads after tossing a coin for 10 times is:\", Binom_prob)"
   ]
  },
  {
   "cell_type": "markdown",
   "metadata": {},
   "source": [
    "### Q. An Ice cream is rarely available and the probability of getting it is 0.15. \n",
    "Q1. Obtain a distribution table for getting Ice cream in 0, 1, 2,- - 10 visits in the store.                       \n",
    "Q2. How many average number of visits are required to get your favourite Ice cream?"
   ]
  },
  {
   "cell_type": "markdown",
   "metadata": {},
   "source": [
    "#### A. This question is about Geometric distribution"
   ]
  },
  {
   "cell_type": "markdown",
   "metadata": {},
   "source": [
    "#### Q1. Obtain a distribution table for getting Ice cream in 0, 1, 2,- - 10 visits in the store."
   ]
  },
  {
   "cell_type": "code",
   "execution_count": 3,
   "metadata": {},
   "outputs": [
    {
     "data": {
      "text/plain": [
       "array([ 0,  1,  2,  3,  4,  5,  6,  7,  8,  9, 10])"
      ]
     },
     "execution_count": 3,
     "metadata": {},
     "output_type": "execute_result"
    }
   ],
   "source": [
    "# Let's first create a list of variables from 0 to 10\n",
    "x = np.arange(0, 11)\n",
    "x"
   ]
  },
  {
   "cell_type": "code",
   "execution_count": 4,
   "metadata": {},
   "outputs": [
    {
     "name": "stdout",
     "output_type": "stream",
     "text": [
      "Distribution values for getting Ice cream in 0, 1, 2,- - 10 visits in the store is as follows: [0.         0.15       0.1275     0.108375   0.09211875 0.07830094\n",
      " 0.0665558  0.05657243 0.04808656 0.04087358 0.03474254]\n"
     ]
    }
   ],
   "source": [
    "# Let's pass the list of numbers to the Geometric distribution function along with the probability value\n",
    "Geom_prob = geom.pmf(x, 0.15)\n",
    "\n",
    "# Let's print the result\n",
    "print(\"Distribution values for getting Ice cream in 0, 1, 2,- - 10 visits in the store is as follows:\", Geom_prob)"
   ]
  },
  {
   "cell_type": "code",
   "execution_count": 5,
   "metadata": {
    "scrolled": true
   },
   "outputs": [
    {
     "data": {
      "text/plain": [
       "<BarContainer object of 11 artists>"
      ]
     },
     "execution_count": 5,
     "metadata": {},
     "output_type": "execute_result"
    },
    {
     "data": {
      "image/png": "[encoded data removed]",
      "text/plain": [
       "<Figure size 432x288 with 1 Axes>"
      ]
     },
     "metadata": {
      "needs_background": "light"
     },
     "output_type": "display_data"
    }
   ],
   "source": [
    "# For better clarity, let's plot a bar plot of all the probability values we have fetched\n",
    "import matplotlib.pyplot as plt\n",
    "\n",
    "plt.bar(x, Geom_prob)"
   ]
  },
  {
   "cell_type": "markdown",
   "metadata": {},
   "source": [
    "#### Q2. How many average number of visits are required to get your favourite Ice cream?"
   ]
  },
  {
   "cell_type": "code",
   "execution_count": 6,
   "metadata": {},
   "outputs": [
    {
     "name": "stdout",
     "output_type": "stream",
     "text": [
      "Average number of visits required to get favourite Ice cream: 6.666666666666667\n"
     ]
    }
   ],
   "source": [
    "# Let's pass the probability value to the Geometric distribution function and fetch the mean no. of visits\n",
    "Expectation = geom.mean(0.15)\n",
    "print(\"Average number of visits required to get favourite Ice cream:\", Expectation)"
   ]
  },
  {
   "cell_type": "markdown",
   "metadata": {},
   "source": [
    "### Q. On an average a hotel reservation desk gets three calls per minute. What is the probability that you’ll get zero calls per minute."
   ]
  },
  {
   "cell_type": "markdown",
   "metadata": {},
   "source": [
    "#### A. This question is about Poisson distribution"
   ]
  },
  {
   "cell_type": "code",
   "execution_count": 7,
   "metadata": {
    "scrolled": true
   },
   "outputs": [
    {
     "name": "stdout",
     "output_type": "stream",
     "text": [
      "Probability that Hotel reservation desk gets zero calls per minute is: 0.049787068367863944\n"
     ]
    }
   ],
   "source": [
    "# Let's declare the values given\n",
    "K = 0\n",
    "Lambda = 3\n",
    "\n",
    "# Let's pass the declared values to the Poisso distribution function\n",
    "Poisson_prob = poisson.pmf(K, Lambda)\n",
    "\n",
    "# Let's print the result\n",
    "print(\"Probability that Hotel reservation desk gets zero calls per minute is:\", Poisson_prob)"
   ]
  },
  {
   "cell_type": "markdown",
   "metadata": {},
   "source": [
    "### Q. Julie wants to marry a person taller than her and is going on blind dates. Julie is 64 inches tall. The mean height of ‘available’ guys is 71 inches and the variance is 20.25 inches. Determine the Probability."
   ]
  },
  {
   "cell_type": "markdown",
   "metadata": {},
   "source": [
    "#### A. This question is about Normal(Z) distribution."
   ]
  },
  {
   "cell_type": "code",
   "execution_count": 8,
   "metadata": {},
   "outputs": [
    {
     "name": "stdout",
     "output_type": "stream",
     "text": [
      "Probability that Julie will marry a person taller than her is: 0.9400930928972281\n"
     ]
    }
   ],
   "source": [
    "# Let's declare the values given\n",
    "Mean = 71\n",
    "Var = 20.25\n",
    "X = 64\n",
    "\n",
    "# Let's calculate the values not given in the question\n",
    "Stnd_Dev = math.sqrt(20.25)\n",
    "Z_score = (X-Mean)/Stnd_Dev\n",
    "\n",
    "# Let's pass the values to Normal distribution function\n",
    "Normal_prob = 1-norm.cdf(Z_score, 0, 1)\n",
    "\n",
    "# Let's print the result\n",
    "print(\"Probability that Julie will marry a person taller than her is:\", Normal_prob)"
   ]
  },
  {
   "cell_type": "markdown",
   "metadata": {},
   "source": [
    "### Q. Julie wants to marry a person at least 5 inches taller than her and is going on blind dates. Julie is 64 inches tall. The mean height of ‘available’ guys is 71 inches and the variance is 20.25 inches. Determine the Probability."
   ]
  },
  {
   "cell_type": "markdown",
   "metadata": {},
   "source": [
    "#### A. This question is an extension of above question and is also about Normal(Z) distribution."
   ]
  },
  {
   "cell_type": "code",
   "execution_count": 9,
   "metadata": {},
   "outputs": [
    {
     "name": "stdout",
     "output_type": "stream",
     "text": [
      "Probability that Julie will marry a person taller than her is: 0.6716393567181147\n"
     ]
    }
   ],
   "source": [
    "# Let's declare the values given\n",
    "Mean = 71\n",
    "Var = 20.25\n",
    "X = 64+5\n",
    "\n",
    "# Let's calculate the values not given in the question\n",
    "Stnd_Dev = math.sqrt(20.25)\n",
    "Z_score = (X-Mean)/Stnd_Dev\n",
    "\n",
    "# Let's pass the values to Normal distribution function\n",
    "Normal_prob = 1-norm.cdf(Z_score, 0, 1)\n",
    "\n",
    "# Let's print the result\n",
    "print(\"Probability that Julie will marry a person taller than her is:\", Normal_prob)"
   ]
  },
  {
   "cell_type": "markdown",
   "metadata": {},
   "source": [
    "### Q. Julie wants to marry a person such that even after wearing heels he is taller than her and is going on blind dates. Julie is 64 inches tall. The mean height of ‘available’ guys is 71 inches and the variance is 20.25 inches. Julie wants to have at least 80% Probability, What is the maximum size of heels she can wear?"
   ]
  },
  {
   "cell_type": "markdown",
   "metadata": {},
   "source": [
    "#### A. This question is also an extension of above question and is also about Normal(Z) distribution."
   ]
  },
  {
   "cell_type": "code",
   "execution_count": 10,
   "metadata": {},
   "outputs": [
    {
     "name": "stdout",
     "output_type": "stream",
     "text": [
      "Maximum size of heels Julie can wear is: 3.2127044489218832\n"
     ]
    }
   ],
   "source": [
    "# Let's declare the values given\n",
    "Mean = 71\n",
    "Var = 20.25\n",
    "Probability = 0.2\n",
    "Jul_height = 64\n",
    "\n",
    "# Let's calculate the values not given in the question\n",
    "Stnd_Dev = math.sqrt(20.25)\n",
    "\n",
    "# Let's pass the values to Normal distribution function\n",
    "PPF = norm.ppf(Probability, Mean, Stnd_Dev)\n",
    "\n",
    "# Let's calculate the result\n",
    "Heel_height = PPF-Jul_height\n",
    "\n",
    "# Let's print the result\n",
    "print(\"Maximum size of heels Julie can wear is:\", Heel_height)"
   ]
  },
  {
   "cell_type": "markdown",
   "metadata": {},
   "source": [
    "### Q. Fetch Z-score based on probability"
   ]
  },
  {
   "cell_type": "markdown",
   "metadata": {},
   "source": [
    "#### Probability-1 = 0.0045\n",
    "#### Probability-2 = 0.9641"
   ]
  },
  {
   "cell_type": "code",
   "execution_count": 11,
   "metadata": {},
   "outputs": [
    {
     "name": "stdout",
     "output_type": "stream",
     "text": [
      "Z-score for 0.0045 probability is: -2.6120541412292777\n",
      "Z-score for 0.9641 probability is: 1.800384161326843\n"
     ]
    }
   ],
   "source": [
    "# Let's declare the probablity values\n",
    "Probability_1 = 0.0045\n",
    "Probability_2 = 0.9641\n",
    "\n",
    "# Let's calculate the Z-score for Probability-1\n",
    "Z_score_1 = norm.ppf(Probability_1)\n",
    "\n",
    "# Let's print the result\n",
    "print(f'Z-score for {Probability_1} probability is: {Z_score_1}')\n",
    "\n",
    "# Let's calculate the Z-score for Probability-2\n",
    "Z_score_2 = norm.ppf(Probability_2)\n",
    "\n",
    "# Let's print the result\n",
    "print(f'Z-score for {Probability_2} probability is: {Z_score_2}')"
   ]
  },
  {
   "cell_type": "code",
   "execution_count": null,
   "metadata": {},
   "outputs": [],
   "source": []
  }
 ],
 "metadata": {
  "kernelspec": {
   "display_name": "Python 3",
   "language": "python",
   "name": "python3"
  },
  "language_info": {
   "codemirror_mode": {
    "name": "ipython",
    "version": 3
   },
   "file_extension": ".py",
   "mimetype": "text/x-python",
   "name": "python",
   "nbconvert_exporter": "python",
   "pygments_lexer": "ipython3",
   "version": "3.8.5"
  }
 },
 "nbformat": 4,
 "nbformat_minor": 4
}
